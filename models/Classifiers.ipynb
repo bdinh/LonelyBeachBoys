{
 "cells": [
  {
   "cell_type": "code",
   "execution_count": 82,
   "metadata": {},
   "outputs": [],
   "source": [
    "import pandas as pd\n",
    "from sklearn.model_selection import train_test_split, KFold\n",
    "from sklearn.pipeline import Pipeline, make_pipeline\n",
    "from sklearn.preprocessing import MinMaxScaler\n",
    "from sklearn.feature_selection import SelectPercentile\n",
    "from sklearn.model_selection import GridSearchCV\n",
    "from sklearn.neural_network import MLPClassifier\n",
    "from sklearn.neighbors import KNeighborsClassifier"
   ]
  },
  {
   "cell_type": "code",
   "execution_count": 83,
   "metadata": {},
   "outputs": [],
   "source": [
    "# import data and drop extra columns\n",
    "features = pd.read_csv(\"../data/prepped/modeling_features.csv\")\n",
    "labels = pd.read_csv(\"../data/prepped/modeling_outcome.csv\")\n",
    "features = features.drop([\"Unnamed: 0\"], axis=1)\n",
    "labels = labels.drop([\"Unnamed: 0\"], axis=1)"
   ]
  },
  {
   "cell_type": "code",
   "execution_count": 84,
   "metadata": {},
   "outputs": [],
   "source": [
    "# make the outcome categorical, incrementing from 0 in 0.25 steps\n",
    "labels[\"rating_value\"] = [str(round(i * 4) / 4) for i in labels[\"rating_value\"]]"
   ]
  },
  {
   "cell_type": "code",
   "execution_count": 85,
   "metadata": {},
   "outputs": [],
   "source": [
    "# perform a test train split, and generate folds for cross validation\n",
    "train_features, test_features, train_outcome, test_outcome = train_test_split(\n",
    "    features,\n",
    "    labels[\"rating_value\"],\n",
    "    test_size=0.25,\n",
    "    random_state=42\n",
    ")\n",
    "folds = KFold(n_splits=10, shuffle=True, random_state=42)"
   ]
  },
  {
   "cell_type": "code",
   "execution_count": 86,
   "metadata": {},
   "outputs": [
    {
     "name": "stdout",
     "output_type": "stream",
     "text": [
      "Fitting 10 folds for each of 1 candidates, totalling 10 fits\n"
     ]
    },
    {
     "name": "stderr",
     "output_type": "stream",
     "text": [
      "/anaconda3/lib/python3.6/site-packages/sklearn/neural_network/multilayer_perceptron.py:564: ConvergenceWarning: Stochastic Optimizer: Maximum iterations (200) reached and the optimization hasn't converged yet.\n",
      "  % self.max_iter, ConvergenceWarning)\n",
      "/anaconda3/lib/python3.6/site-packages/sklearn/neural_network/multilayer_perceptron.py:564: ConvergenceWarning: Stochastic Optimizer: Maximum iterations (200) reached and the optimization hasn't converged yet.\n",
      "  % self.max_iter, ConvergenceWarning)\n",
      "/anaconda3/lib/python3.6/site-packages/sklearn/neural_network/multilayer_perceptron.py:564: ConvergenceWarning: Stochastic Optimizer: Maximum iterations (200) reached and the optimization hasn't converged yet.\n",
      "  % self.max_iter, ConvergenceWarning)\n",
      "/anaconda3/lib/python3.6/site-packages/sklearn/neural_network/multilayer_perceptron.py:564: ConvergenceWarning: Stochastic Optimizer: Maximum iterations (200) reached and the optimization hasn't converged yet.\n",
      "  % self.max_iter, ConvergenceWarning)\n",
      "/anaconda3/lib/python3.6/site-packages/sklearn/neural_network/multilayer_perceptron.py:564: ConvergenceWarning: Stochastic Optimizer: Maximum iterations (200) reached and the optimization hasn't converged yet.\n",
      "  % self.max_iter, ConvergenceWarning)\n",
      "/anaconda3/lib/python3.6/site-packages/sklearn/neural_network/multilayer_perceptron.py:564: ConvergenceWarning: Stochastic Optimizer: Maximum iterations (200) reached and the optimization hasn't converged yet.\n",
      "  % self.max_iter, ConvergenceWarning)\n",
      "[Parallel(n_jobs=1)]: Done  10 out of  10 | elapsed:    7.0s finished\n",
      "/anaconda3/lib/python3.6/site-packages/sklearn/neural_network/multilayer_perceptron.py:564: ConvergenceWarning: Stochastic Optimizer: Maximum iterations (200) reached and the optimization hasn't converged yet.\n",
      "  % self.max_iter, ConvergenceWarning)\n"
     ]
    }
   ],
   "source": [
    "# create the pipeline\n",
    "pipeline = make_pipeline(\n",
    "    MinMaxScaler(),\n",
    "    MLPClassifier()\n",
    ")\n",
    "# set params\n",
    "pipeline_params = {\n",
    "    \"mlpclassifier__hidden_layer_sizes\": [100],\n",
    "    \"mlpclassifier__activation\": [\"relu\"],\n",
    "    \"mlpclassifier__solver\": [\"adam\"],\n",
    "    \"mlpclassifier__alpha\": [0.001],\n",
    "    \"mlpclassifier__learning_rate\": [\"constant\"],\n",
    "    \"mlpclassifier__random_state\": [42],\n",
    "    \"mlpclassifier__beta_1\": [0.07],\n",
    "    \"mlpclassifier__beta_2\": [0.999],\n",
    "    \"mlpclassifier__early_stopping\": [False]\n",
    "}\n",
    "# perform grid search\n",
    "model = GridSearchCV(pipeline, pipeline_params, cv=folds, verbose=True)\n",
    "model.fit(train_features, train_outcome)\n",
    "score = model.score(test_features, test_outcome)"
   ]
  },
  {
   "cell_type": "code",
   "execution_count": 92,
   "metadata": {},
   "outputs": [
    {
     "name": "stdout",
     "output_type": "stream",
     "text": [
      "model score: 0.5853658536585366\n",
      "best params: {'mlpclassifier__activation': 'relu', 'mlpclassifier__alpha': 0.001, 'mlpclassifier__beta_1': 0.07, 'mlpclassifier__beta_2': 0.999, 'mlpclassifier__early_stopping': False, 'mlpclassifier__hidden_layer_sizes': 100, 'mlpclassifier__learning_rate': 'constant', 'mlpclassifier__random_state': 42, 'mlpclassifier__solver': 'adam'}\n",
      "68\n",
      "1371\n"
     ]
    },
    {
     "data": {
      "text/html": [
       "<div>\n",
       "<style scoped>\n",
       "    .dataframe tbody tr th:only-of-type {\n",
       "        vertical-align: middle;\n",
       "    }\n",
       "\n",
       "    .dataframe tbody tr th {\n",
       "        vertical-align: top;\n",
       "    }\n",
       "\n",
       "    .dataframe thead th {\n",
       "        text-align: right;\n",
       "    }\n",
       "</style>\n",
       "<table border=\"1\" class=\"dataframe\">\n",
       "  <thead>\n",
       "    <tr style=\"text-align: right;\">\n",
       "      <th></th>\n",
       "      <th>abv</th>\n",
       "      <th>ibu</th>\n",
       "      <th>diff_g</th>\n",
       "      <th>boil_time</th>\n",
       "      <th>efficiency</th>\n",
       "      <th>ferm_total_weight</th>\n",
       "      <th>ferm_type_base_malt</th>\n",
       "      <th>ferm_type_crystal_malt</th>\n",
       "      <th>ferm_type_roasted_malt</th>\n",
       "      <th>ferm_type_other</th>\n",
       "      <th>ferm_type_extract</th>\n",
       "      <th>ferm_type_sugar</th>\n",
       "      <th>ferm_type_raw</th>\n",
       "      <th>ferm_type_acidulated_malt</th>\n",
       "      <th>ferm_type_fruit</th>\n",
       "      <th>ferm_type_gluten_free_malt</th>\n",
       "      <th>hops_type_pellet</th>\n",
       "      <th>hops_type_leaf_whole</th>\n",
       "      <th>hops_type_plug</th>\n",
       "      <th>other_type_spice</th>\n",
       "      <th>other_type_water_agt</th>\n",
       "      <th>other_type_other</th>\n",
       "      <th>other_type_fining</th>\n",
       "      <th>other_type_flavor</th>\n",
       "      <th>other_type_herb</th>\n",
       "      <th>yeast_attenuation</th>\n",
       "      <th>method_all_grain</th>\n",
       "      <th>method_biab</th>\n",
       "      <th>method_extract</th>\n",
       "      <th>method_partial_mash</th>\n",
       "      <th>yeast_form_dry</th>\n",
       "      <th>yeast_form_liquid</th>\n",
       "      <th>yeast_flocculation_high</th>\n",
       "      <th>yeast_flocculation_low</th>\n",
       "      <th>yeast_flocculation_medium</th>\n",
       "    </tr>\n",
       "  </thead>\n",
       "  <tbody>\n",
       "    <tr>\n",
       "      <th>68</th>\n",
       "      <td>22.05</td>\n",
       "      <td>0.0</td>\n",
       "      <td>0.168</td>\n",
       "      <td>60</td>\n",
       "      <td>70.0</td>\n",
       "      <td>40.0</td>\n",
       "      <td>0.0</td>\n",
       "      <td>0.0</td>\n",
       "      <td>0.0</td>\n",
       "      <td>0.0</td>\n",
       "      <td>0.0</td>\n",
       "      <td>0.0</td>\n",
       "      <td>0.0</td>\n",
       "      <td>0.0</td>\n",
       "      <td>40.0</td>\n",
       "      <td>0.0</td>\n",
       "      <td>0.0</td>\n",
       "      <td>0.0</td>\n",
       "      <td>0.0</td>\n",
       "      <td>0</td>\n",
       "      <td>0</td>\n",
       "      <td>0</td>\n",
       "      <td>0</td>\n",
       "      <td>0</td>\n",
       "      <td>0</td>\n",
       "      <td>75.0</td>\n",
       "      <td>1</td>\n",
       "      <td>0</td>\n",
       "      <td>0</td>\n",
       "      <td>0</td>\n",
       "      <td>0</td>\n",
       "      <td>1</td>\n",
       "      <td>0</td>\n",
       "      <td>0</td>\n",
       "      <td>1</td>\n",
       "    </tr>\n",
       "  </tbody>\n",
       "</table>\n",
       "</div>"
      ],
      "text/plain": [
       "      abv  ibu  diff_g  boil_time  efficiency  ferm_total_weight  ferm_type_base_malt  ferm_type_crystal_malt  ferm_type_roasted_malt  ferm_type_other  ferm_type_extract  ferm_type_sugar  ferm_type_raw  ferm_type_acidulated_malt  ferm_type_fruit  ferm_type_gluten_free_malt  hops_type_pellet  hops_type_leaf_whole  hops_type_plug  other_type_spice  other_type_water_agt  other_type_other  other_type_fining  other_type_flavor  other_type_herb  yeast_attenuation  method_all_grain  method_biab  method_extract  method_partial_mash  yeast_form_dry  yeast_form_liquid  yeast_flocculation_high  yeast_flocculation_low  yeast_flocculation_medium\n",
       "68  22.05  0.0   0.168         60        70.0               40.0                  0.0                     0.0                     0.0              0.0                0.0              0.0            0.0                        0.0             40.0                         0.0               0.0                   0.0             0.0                 0                     0                 0                  0                  0                0               75.0                 1            0               0                    0               0                  1                        0                       0                          1"
      ]
     },
     "execution_count": 92,
     "metadata": {},
     "output_type": "execute_result"
    }
   ],
   "source": [
    "# output score\n",
    "import numpy as np\n",
    "print(\"model score:\", score)\n",
    "print(\"best params:\", model.best_params_)\n",
    "# np.unique(model.predict(features))\n",
    "# test = features[0:1]\n",
    "# test.shape\n",
    "\n",
    "test = model.predict(features)\n",
    "# print(model.predict(features[67:69]))\n",
    "for i in range(0, test.size):\n",
    "    if (test[i] == \"3.0\"):\n",
    "        print(i)\n",
    "#         print(features.abv[i:i+1])\n",
    "# pd.set_option('display.width', 1000)\n",
    "pd.set_option('display.max_columns', 500)\n",
    "\n",
    "features[68:69]"
   ]
  },
  {
   "cell_type": "code",
   "execution_count": 67,
   "metadata": {},
   "outputs": [],
   "source": [
    "# train a knn model\n",
    "pipeline = make_pipeline(\n",
    "    MinMaxScaler(),\n",
    "    KNeighborsClassifier()\n",
    ")\n",
    "pipeline_params = {\n",
    "    \"kneighborsclassifier__n_neighbors\": [10]\n",
    "}\n",
    "model = GridSearchCV(pipeline, pipeline_params, cv=folds)\n",
    "model.fit(train_features, train_outcome)\n",
    "score = model.score(test_features, test_outcome)"
   ]
  },
  {
   "cell_type": "code",
   "execution_count": 62,
   "metadata": {},
   "outputs": [
    {
     "name": "stdout",
     "output_type": "stream",
     "text": [
      "model score: 0.5304878048780488\n",
      "best params: {'kneighborsclassifier__n_neighbors': 10}\n"
     ]
    }
   ],
   "source": [
    "# get the knn model score\n",
    "print(\"model score:\", score)\n",
    "print(\"best params:\", model.best_params_)"
   ]
  },
  {
   "cell_type": "code",
   "execution_count": null,
   "metadata": {},
   "outputs": [],
   "source": []
  }
 ],
 "metadata": {
  "kernelspec": {
   "display_name": "Python 3",
   "language": "python",
   "name": "python3"
  },
  "language_info": {
   "codemirror_mode": {
    "name": "ipython",
    "version": 3
   },
   "file_extension": ".py",
   "mimetype": "text/x-python",
   "name": "python",
   "nbconvert_exporter": "python",
   "pygments_lexer": "ipython3",
   "version": "3.6.5"
  }
 },
 "nbformat": 4,
 "nbformat_minor": 2
}
