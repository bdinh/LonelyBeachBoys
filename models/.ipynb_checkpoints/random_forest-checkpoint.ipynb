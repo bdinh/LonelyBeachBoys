{
 "cells": [
  {
   "cell_type": "code",
   "execution_count": 3,
   "metadata": {},
   "outputs": [],
   "source": [
    "from sklearn.pipeline import make_pipeline\n",
    "from sklearn.ensemble import RandomForestRegressor\n",
    "from sklearn.feature_selection import SelectPercentile\n",
    "from sklearn.model_selection import train_test_split\n",
    "from sklearn.model_selection import KFold\n",
    "from sklearn.preprocessing import MinMaxScaler\n",
    "from sklearn.model_selection import GridSearchCV\n",
    "import warnings\n",
    "warnings.filterwarnings('ignore')\n",
    "\n",
    "\n",
    "import numpy as np\n",
    "import pandas as pd\n",
    "\n",
    "features = pd.read_csv(\"../data/prepped/modeling_features.csv\")\n",
    "labels = pd.read_csv(\"../data/prepped/modeling_outcome.csv\")\n",
    "\n",
    "features = features.drop([\"Unnamed: 0\"], axis=1)\n",
    "labels = labels.drop([\"Unnamed: 0\"], axis=1)\n",
    "\n",
    "labels[\"rating_value\"] = [round(i) for i in labels[\"rating_value\"]]\n",
    "\n",
    "train_features, test_features, train_outcome, test_outcome = train_test_split(\n",
    "    features,\n",
    "    labels,\n",
    "    test_size=0.25,\n",
    "    random_state=42\n",
    ")\n",
    "\n",
    "# {'n_estimators': 1188,\n",
    "#  'min_samples_split': 2,\n",
    "#  'max_features': 'sqrt',\n",
    "#  'max_depth': 72,\n",
    "#  'bootstrap': True}\n"
   ]
  },
  {
   "cell_type": "markdown",
   "metadata": {},
   "source": [
    "#### Initial Model\n",
    "Base model with `n_estimators` set to 1000"
   ]
  },
  {
   "cell_type": "code",
   "execution_count": 4,
   "metadata": {},
   "outputs": [
    {
     "name": "stdout",
     "output_type": "stream",
     "text": [
      "0.061822168848167595\n"
     ]
    }
   ],
   "source": [
    "base_model = RandomForestRegressor(n_estimators=1000, random_state=42)\n",
    "\n",
    "base_model.fit(train_features, train_outcome)\n",
    "\n",
    "base_predictions = base_model.score(test_features, test_outcome)\n",
    "print(base_predictions)"
   ]
  },
  {
   "cell_type": "markdown",
   "metadata": {},
   "source": [
    "#### Tree-Based Feature Selection\n",
    "Through domain research and exploratory data analysis we were able to determine that some features are not as important as others. Therefore, here we attempt to reduce the number of features used within our model by extracting features that are more significant that others with [Tree-Based Feature Selection](https://scikit-learn.org/stable/modules/feature_selection.html#feature-selection-using-selectfrommodel)."
   ]
  },
  {
   "cell_type": "code",
   "execution_count": 5,
   "metadata": {},
   "outputs": [
    {
     "name": "stdout",
     "output_type": "stream",
     "text": [
      "Score: 0.07293836849119473\n",
      "Feature Importance\n",
      "[0.12092281844643282, 0.1477565898962582, 0.06182260593871676, 0.0674130087524321, 0.12795907388289782, 0.1032807145931021, 0.056523297124332045, 0.056768209903673754, 0.03597173408396315, 0.03981512323729865, 0.11141649663844247, 0.0703503275024496]\n",
      "Refined Feature Lists\n",
      "['abv', 'ibu', 'diff_g', 'boil_time', 'efficiency', 'ferm_total_weight', 'ferm_type_base_malt', 'ferm_type_crystal_malt', 'ferm_type_roasted_malt', 'ferm_type_other', 'ferm_type_extract', 'ferm_type_sugar']\n"
     ]
    }
   ],
   "source": [
    "from sklearn.feature_selection import SelectFromModel\n",
    "\n",
    "feature_model = SelectFromModel(base_model, prefit=True)\n",
    "\n",
    "# Transform into new training and testing feature sets\n",
    "refined_train_features = feature_model.transform(train_features)\n",
    "refined_test_features = feature_model.transform(test_features)\n",
    "\n",
    "# Retrained with refined features\n",
    "refined_model = RandomForestRegressor(n_estimators=1000, random_state=42)\n",
    "refined_model.fit(refined_train_features, train_outcome)\n",
    "print(\"Score: \" + str(refined_model.score(refined_test_features, test_outcome)))\n",
    "print(\"Feature Importance\")\n",
    "print(list(refined_model.feature_importances_))\n",
    "feature_tuples = [(feature, round(importance, 2)) for feature, importance in zip(list(features.columns), list(refined_model.feature_importances_))]\n",
    "refined_features = list(dict(feature_tuples))\n",
    "print(\"Refined Feature Lists\")\n",
    "print(refined_features)"
   ]
  },
  {
   "cell_type": "markdown",
   "metadata": {},
   "source": [
    "#### Cross Validation\n",
    "Cross validation was attempted for a range of parameters within our model. After reading more into [RandomForestClassifier](https://scikit-learn.org/stable/modules/generated/sklearn.ensemble.RandomForestClassifier.html), I concluded on five parameters to tune in order to build a better model. Those parameters included that of `n_estimators`, `max_features`, `max_depth`, `min_samples_split` and `bootstrap`. These all are important as they allow us to control the number of trees in the forest as well as the number of features considered for splitting at each leaf node. The values derived here are a result of my intial model with variations to the range of potential values in order to attempt to capture a better fit within the range of parameter values."
   ]
  },
  {
   "cell_type": "code",
   "execution_count": 12,
   "metadata": {},
   "outputs": [
    {
     "name": "stdout",
     "output_type": "stream",
     "text": [
      "Fitting 5 folds for each of 100 candidates, totalling 500 fits\n"
     ]
    },
    {
     "name": "stderr",
     "output_type": "stream",
     "text": [
      "[Parallel(n_jobs=-1)]: Done  26 tasks      | elapsed:   14.7s\n",
      "[Parallel(n_jobs=-1)]: Done 176 tasks      | elapsed:  1.6min\n",
      "[Parallel(n_jobs=-1)]: Done 426 tasks      | elapsed:  4.0min\n",
      "[Parallel(n_jobs=-1)]: Done 500 out of 500 | elapsed:  4.5min finished\n"
     ]
    },
    {
     "name": "stdout",
     "output_type": "stream",
     "text": [
      "0.10772450552889712\n"
     ]
    }
   ],
   "source": [
    "from sklearn.model_selection import RandomizedSearchCV\n",
    "\n",
    "# Number of trees in random forest\n",
    "n_estimators = [int(x) for x in np.linspace(start = 100, stop = 1500, num = 10)]\n",
    "\n",
    "# Number of features to consider at every split\n",
    "max_features = ['auto', 'sqrt']\n",
    "\n",
    "# Maximum number of levels in tree\n",
    "max_depth = [int(x) for x in np.linspace(10, 150, num = 10)]\n",
    "\n",
    "# Minimum number of samples required to split a node\n",
    "min_samples_split = [2, 3, 5]\n",
    "\n",
    "# Method of selecting samples for training each tree\n",
    "bootstrap = [True, False]\n",
    "\n",
    "# Create the random grid\n",
    "random_grid = {'n_estimators': n_estimators,\n",
    "               'max_features': max_features,\n",
    "               'max_depth': max_depth,\n",
    "               'min_samples_split': min_samples_split,\n",
    "               'bootstrap': bootstrap}\n",
    "\n",
    "cv_model = RandomizedSearchCV(estimator=RandomForestRegressor(), param_distributions=random_grid,\n",
    "                             n_iter = 100, scoring='r2', \n",
    "                              cv = 5, verbose=True, random_state=42, n_jobs=-1)\n",
    "\n",
    "cv_model.fit(refined_train_features, train_outcome)\n",
    "\n",
    "print(cv_model.score(refined_test_features, test_outcome))\n"
   ]
  },
  {
   "cell_type": "markdown",
   "metadata": {},
   "source": [
    "#### GridSearch Cross Validation"
   ]
  },
  {
   "cell_type": "code",
   "execution_count": 13,
   "metadata": {},
   "outputs": [
    {
     "name": "stdout",
     "output_type": "stream",
     "text": [
      "Fitting 10 folds for each of 36 candidates, totalling 360 fits\n"
     ]
    },
    {
     "name": "stderr",
     "output_type": "stream",
     "text": [
      "[Parallel(n_jobs=-1)]: Done  26 tasks      | elapsed:    8.4s\n",
      "[Parallel(n_jobs=-1)]: Done 176 tasks      | elapsed:  1.1min\n",
      "[Parallel(n_jobs=-1)]: Done 360 out of 360 | elapsed:  2.3min finished\n"
     ]
    },
    {
     "name": "stdout",
     "output_type": "stream",
     "text": [
      "model score: 0.1022920675670317\n",
      "best params: {'randomforestregressor__bootstrap': True, 'randomforestregressor__max_depth': 55, 'randomforestregressor__max_features': 'sqrt', 'randomforestregressor__min_samples_split': 2, 'randomforestregressor__n_estimators': 1200, 'selectpercentile__percentile': 80}\n"
     ]
    }
   ],
   "source": [
    "folds = KFold(n_splits=10, shuffle=True, random_state=42)\n",
    "\n",
    "pipeline = make_pipeline(\n",
    "    MinMaxScaler(),\n",
    "    SelectPercentile(),\n",
    "    RandomForestRegressor()\n",
    ")\n",
    "\n",
    "# Number of trees in random forest\n",
    "n_estimators = [800, 1000, 1200, 1400]\n",
    "\n",
    "# Number of features to consider at every split\n",
    "max_features = ['sqrt']\n",
    "\n",
    "# Maximum number of levels in tree\n",
    "max_depth = [40, 55, 70]\n",
    "\n",
    "# Minimum number of samples required to split a node\n",
    "min_samples_split = [2]\n",
    "\n",
    "# Method of selecting samples for training each tree\n",
    "bootstrap = [True]\n",
    "\n",
    "pipeline_params = {\n",
    "    \"selectpercentile__percentile\": [70, 80, 90],\n",
    "    \"randomforestregressor__n_estimators\": n_estimators,\n",
    "    \"randomforestregressor__max_features\": max_features,\n",
    "    \"randomforestregressor__max_depth\": max_depth,\n",
    "    \"randomforestregressor__min_samples_split\": min_samples_split,\n",
    "    \"randomforestregressor__bootstrap\": bootstrap,\n",
    "}\n",
    "\n",
    "model = GridSearchCV(pipeline, pipeline_params, cv=folds, n_jobs=-1, verbose=True)\n",
    "model.fit(train_features, train_outcome)\n",
    "score = model.score(test_features, test_outcome)\n",
    "\n",
    "print(\"model score:\", score)\n",
    "print(\"best params:\", model.best_params_)"
   ]
  },
  {
   "cell_type": "code",
   "execution_count": 26,
   "metadata": {},
   "outputs": [
    {
     "data": {
      "text/plain": [
       "{'n_estimators': 1188,\n",
       " 'min_samples_split': 2,\n",
       " 'max_features': 'sqrt',\n",
       " 'max_depth': 72,\n",
       " 'bootstrap': True}"
      ]
     },
     "execution_count": 26,
     "metadata": {},
     "output_type": "execute_result"
    }
   ],
   "source": [
    "cv_model.best_params_\n",
    "# cv_model.best_score_"
   ]
  },
  {
   "cell_type": "code",
   "execution_count": 28,
   "metadata": {},
   "outputs": [
    {
     "data": {
      "text/plain": [
       "{'n_estimators': 877,\n",
       " 'min_samples_split': 2,\n",
       " 'max_features': 'sqrt',\n",
       " 'max_depth': 41,\n",
       " 'bootstrap': True}"
      ]
     },
     "execution_count": 28,
     "metadata": {},
     "output_type": "execute_result"
    }
   ],
   "source": [
    "cv_model.best_params_"
   ]
  },
  {
   "cell_type": "code",
   "execution_count": null,
   "metadata": {},
   "outputs": [],
   "source": []
  }
 ],
 "metadata": {
  "kernelspec": {
   "display_name": "Python 3",
   "language": "python",
   "name": "python3"
  },
  "language_info": {
   "codemirror_mode": {
    "name": "ipython",
    "version": 3
   },
   "file_extension": ".py",
   "mimetype": "text/x-python",
   "name": "python",
   "nbconvert_exporter": "python",
   "pygments_lexer": "ipython3",
   "version": "3.6.5"
  }
 },
 "nbformat": 4,
 "nbformat_minor": 2
}
