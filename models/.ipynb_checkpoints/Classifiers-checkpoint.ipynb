{
 "cells": [
  {
   "cell_type": "markdown",
   "metadata": {},
   "source": [
    "# Classifiers\n",
    "\n",
    "## Imports"
   ]
  },
  {
   "cell_type": "code",
   "execution_count": 2,
   "metadata": {},
   "outputs": [],
   "source": [
    "import pandas as pd\n",
    "import numpy as np\n",
    "from sklearn.model_selection import train_test_split, KFold\n",
    "from sklearn.pipeline import Pipeline, make_pipeline\n",
    "from sklearn.preprocessing import MinMaxScaler\n",
    "from sklearn.feature_selection import SelectPercentile\n",
    "from sklearn.model_selection import GridSearchCV\n",
    "from sklearn.neural_network import MLPClassifier\n",
    "from sklearn.neighbors import KNeighborsClassifier"
   ]
  },
  {
   "cell_type": "markdown",
   "metadata": {},
   "source": [
    "## Data Prep"
   ]
  },
  {
   "cell_type": "code",
   "execution_count": 3,
   "metadata": {},
   "outputs": [],
   "source": [
    "# import data and drop extra columns\n",
    "features = pd.read_csv(\"../data/prepped/modeling_features.csv\")\n",
    "labels = pd.read_csv(\"../data/prepped/modeling_outcome.csv\")\n",
    "features = features.drop([\"Unnamed: 0\"], axis=1)\n",
    "labels = labels.drop([\"Unnamed: 0\"], axis=1)"
   ]
  },
  {
   "cell_type": "code",
   "execution_count": 4,
   "metadata": {},
   "outputs": [],
   "source": [
    "# make the outcome categorical, incrementing from 0 in 0.25 steps\n",
    "labels[\"rating_value\"] = [str(round(i * 4) / 4) for i in labels[\"rating_value\"]]"
   ]
  },
  {
   "cell_type": "code",
   "execution_count": 5,
   "metadata": {},
   "outputs": [],
   "source": [
    "# perform a test train split, and generate folds for cross validation\n",
    "train_features, test_features, train_outcome, test_outcome = train_test_split(\n",
    "    features,\n",
    "    labels[\"rating_value\"],\n",
    "    test_size=0.25,\n",
    "    random_state=42\n",
    ")\n",
    "folds = KFold(n_splits=10, shuffle=True, random_state=42)"
   ]
  },
  {
   "cell_type": "markdown",
   "metadata": {},
   "source": [
    "## KNN Classifier"
   ]
  },
  {
   "cell_type": "code",
   "execution_count": 6,
   "metadata": {},
   "outputs": [],
   "source": [
    "# train a knn model\n",
    "pipeline = make_pipeline(\n",
    "    MinMaxScaler(),\n",
    "    KNeighborsClassifier()\n",
    ")\n",
    "pipeline_params = {\n",
    "    \"kneighborsclassifier__n_neighbors\": [10]\n",
    "}\n",
    "model = GridSearchCV(pipeline, pipeline_params, cv=folds)\n",
    "model.fit(train_features, train_outcome)\n",
    "score = model.score(test_features, test_outcome)"
   ]
  },
  {
   "cell_type": "code",
   "execution_count": 7,
   "metadata": {},
   "outputs": [
    {
     "name": "stdout",
     "output_type": "stream",
     "text": [
      "model score: 0.5304878048780488\n",
      "best params: {'kneighborsclassifier__n_neighbors': 10}\n"
     ]
    }
   ],
   "source": [
    "# get the knn model score\n",
    "print(\"model score:\", score)\n",
    "print(\"best params:\", model.best_params_)"
   ]
  },
  {
   "cell_type": "markdown",
   "metadata": {},
   "source": [
    "## MLP Classifier"
   ]
  },
  {
   "cell_type": "code",
   "execution_count": 8,
   "metadata": {},
   "outputs": [
    {
     "name": "stdout",
     "output_type": "stream",
     "text": [
      "Fitting 10 folds for each of 1 candidates, totalling 10 fits\n"
     ]
    },
    {
     "name": "stderr",
     "output_type": "stream",
     "text": [
      "/Users/moffotto/anaconda3/lib/python3.7/site-packages/sklearn/neural_network/multilayer_perceptron.py:564: ConvergenceWarning: Stochastic Optimizer: Maximum iterations (200) reached and the optimization hasn't converged yet.\n",
      "  % self.max_iter, ConvergenceWarning)\n",
      "/Users/moffotto/anaconda3/lib/python3.7/site-packages/sklearn/neural_network/multilayer_perceptron.py:564: ConvergenceWarning: Stochastic Optimizer: Maximum iterations (200) reached and the optimization hasn't converged yet.\n",
      "  % self.max_iter, ConvergenceWarning)\n",
      "/Users/moffotto/anaconda3/lib/python3.7/site-packages/sklearn/neural_network/multilayer_perceptron.py:564: ConvergenceWarning: Stochastic Optimizer: Maximum iterations (200) reached and the optimization hasn't converged yet.\n",
      "  % self.max_iter, ConvergenceWarning)\n",
      "/Users/moffotto/anaconda3/lib/python3.7/site-packages/sklearn/neural_network/multilayer_perceptron.py:564: ConvergenceWarning: Stochastic Optimizer: Maximum iterations (200) reached and the optimization hasn't converged yet.\n",
      "  % self.max_iter, ConvergenceWarning)\n",
      "/Users/moffotto/anaconda3/lib/python3.7/site-packages/sklearn/neural_network/multilayer_perceptron.py:564: ConvergenceWarning: Stochastic Optimizer: Maximum iterations (200) reached and the optimization hasn't converged yet.\n",
      "  % self.max_iter, ConvergenceWarning)\n",
      "/Users/moffotto/anaconda3/lib/python3.7/site-packages/sklearn/neural_network/multilayer_perceptron.py:564: ConvergenceWarning: Stochastic Optimizer: Maximum iterations (200) reached and the optimization hasn't converged yet.\n",
      "  % self.max_iter, ConvergenceWarning)\n",
      "[Parallel(n_jobs=1)]: Done  10 out of  10 | elapsed:    7.8s finished\n",
      "/Users/moffotto/anaconda3/lib/python3.7/site-packages/sklearn/neural_network/multilayer_perceptron.py:564: ConvergenceWarning: Stochastic Optimizer: Maximum iterations (200) reached and the optimization hasn't converged yet.\n",
      "  % self.max_iter, ConvergenceWarning)\n"
     ]
    }
   ],
   "source": [
    "# create the pipeline\n",
    "pipeline = make_pipeline(\n",
    "    MinMaxScaler(),\n",
    "    MLPClassifier()\n",
    ")\n",
    "# set params\n",
    "pipeline_params = {\n",
    "    \"mlpclassifier__hidden_layer_sizes\": [100],\n",
    "    \"mlpclassifier__activation\": [\"relu\"],\n",
    "    \"mlpclassifier__solver\": [\"adam\"],\n",
    "    \"mlpclassifier__alpha\": [0.001],\n",
    "    \"mlpclassifier__learning_rate\": [\"constant\"],\n",
    "    \"mlpclassifier__random_state\": [42],\n",
    "    \"mlpclassifier__beta_1\": [0.07],\n",
    "    \"mlpclassifier__beta_2\": [0.999],\n",
    "    \"mlpclassifier__early_stopping\": [False]\n",
    "}\n",
    "# perform grid search\n",
    "model = GridSearchCV(pipeline, pipeline_params, cv=folds, verbose=True)\n",
    "model.fit(train_features, train_outcome)\n",
    "score = model.score(test_features, test_outcome)"
   ]
  },
  {
   "cell_type": "code",
   "execution_count": 9,
   "metadata": {},
   "outputs": [
    {
     "name": "stdout",
     "output_type": "stream",
     "text": [
      "model score: 0.5853658536585366\n",
      "best params: {'mlpclassifier__activation': 'relu', 'mlpclassifier__alpha': 0.001, 'mlpclassifier__beta_1': 0.07, 'mlpclassifier__beta_2': 0.999, 'mlpclassifier__early_stopping': False, 'mlpclassifier__hidden_layer_sizes': 100, 'mlpclassifier__learning_rate': 'constant', 'mlpclassifier__random_state': 42, 'mlpclassifier__solver': 'adam'}\n"
     ]
    }
   ],
   "source": [
    "# output score\n",
    "print(\"model score:\", score)\n",
    "print(\"best params:\", model.best_params_)"
   ]
  }
 ],
 "metadata": {
  "kernelspec": {
   "display_name": "Python 3",
   "language": "python",
   "name": "python3"
  }
 },
 "nbformat": 4,
 "nbformat_minor": 2
}
