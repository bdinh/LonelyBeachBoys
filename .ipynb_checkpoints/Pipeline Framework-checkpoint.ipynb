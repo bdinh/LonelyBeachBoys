{
 "cells": [
  {
   "cell_type": "code",
   "execution_count": null,
   "metadata": {},
   "outputs": [],
   "source": [
    "train_features, test_features, train_outcome, test_outcome = train_test_split(\n",
    "    features,\n",
    "    labels,\n",
    "    test_size=0.25,\n",
    "    random_state=42\n",
    ")\n",
    "folds = KFold(n_splits=10, shuffle=True, random_state=42)"
   ]
  },
  {
   "cell_type": "code",
   "execution_count": null,
   "metadata": {},
   "outputs": [],
   "source": [
    "pipeline = make_pipeline(\n",
    "    MinMaxScaler(),\n",
    "    SelectPercentile(),\n",
    "    # model here\n",
    ")\n",
    "pipeline_params = {\n",
    "    \"selectpercentile__percentile\": [70, 80, 90],\n",
    "    # model params\n",
    "}\n",
    "model = GridSearchCV(pipeline, pipeline_params, cv=folds)\n",
    "model.fit(train_features, train_outcome)\n",
    "score = model.score(test_features, test_outcome)"
   ]
  },
  {
   "cell_type": "code",
   "execution_count": null,
   "metadata": {},
   "outputs": [],
   "source": [
    "print(\"model score:\", score)\n",
    "print(\"best params:\", model.best_params_)"
   ]
  }
 ],
 "metadata": {
  "kernelspec": {
   "display_name": "Python 3",
   "language": "python",
   "name": "python3"
  },
  "language_info": {
   "codemirror_mode": {
    "name": "ipython",
    "version": 3
   },
   "file_extension": ".py",
   "mimetype": "text/x-python",
   "name": "python",
   "nbconvert_exporter": "python",
   "pygments_lexer": "ipython3",
<<<<<<< HEAD
   "version": "3.7.0"
=======
   "version": "3.6.5"
>>>>>>> 9b8ef663e341f5a846092952f84d3cec05010604
  }
 },
 "nbformat": 4,
 "nbformat_minor": 2
}
