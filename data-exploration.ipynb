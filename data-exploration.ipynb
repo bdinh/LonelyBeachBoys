{
 "cells": [
  {
   "cell_type": "code",
   "execution_count": 169,
   "metadata": {},
   "outputs": [
    {
     "name": "stderr",
     "output_type": "stream",
     "text": [
      "/anaconda3/lib/python3.6/site-packages/IPython/core/interactiveshell.py:2785: DtypeWarning: Columns (55,56,57,58,59,60) have mixed types. Specify dtype option on import or set low_memory=False.\n",
      "  interactivity=interactivity, compiler=compiler, result=result)\n",
      "/anaconda3/lib/python3.6/site-packages/ipykernel_launcher.py:11: SettingWithCopyWarning: \n",
      "A value is trying to be set on a copy of a slice from a DataFrame.\n",
      "Try using .loc[row_indexer,col_indexer] = value instead\n",
      "\n",
      "See the caveats in the documentation: http://pandas.pydata.org/pandas-docs/stable/indexing.html#indexing-view-versus-copy\n",
      "  # This is added back by InteractiveShellApp.init_path()\n"
     ]
    }
   ],
   "source": [
    "import csv\n",
    "import pandas as pd\n",
    "import math\n",
    "import numpy as np\n",
    "\n",
    "data = pd.read_csv(\"./data/prepped/all_recipes.csv\")\n",
    "data_ratings = data[np.isnan(data.rating_value) != True]\n",
    "\n",
    "outcome = \"rating_value\"\n",
    "\n",
    "data_ratings[\"diff_g\"] = data_ratings.og - data_ratings.fg\n",
    "feature_list = [\"abv\", \"ibu\", \"diff_g\", \"method\", \"boil_time\", \"efficiency\",\n",
    "               \"ferm_total_weight\", \"ferm_type_base_malt\", \"ferm_type_crystal_malt\",\n",
    "               \"ferm_type_roasted_malt\", \"ferm_type_other\", \"ferm_type_extract\", \"ferm_type_sugar\", \n",
    "                \"ferm_type_raw\", \"ferm_type_acidulated_malt\", \"ferm_type_fruit\", \"ferm_type_gluten_free_malt\", \n",
    "                \"hops_type_pellet\", \"hops_type_leaf_whole\", \"hops_type_plug\", \"other_type_spice\", \n",
    "                \"other_type_water_agt\", \"other_type_other\", \"other_type_fining\", \"other_type_flavor\", \n",
    "                \"other_type_herb\", \"yeast_form\", \"yeast_attenuation\", \"yeast_flocculation\"]\n",
    "\n",
    "\n",
    "\n",
    "\n",
    "modeling_data = data_ratings[feature_list]\n",
    "modeling_data = modeling_data.dropna()\n",
    "modeling_data.isna().sum()\n",
    "\n",
    "modeling_data.abv = modeling_data.abv.apply(lambda x: x.replace(\"%\", \"\"))\n",
    "modeling_data.abv = pd.to_numeric(modeling_data.abv)\n",
    "modeling_data.yeast_attenuation = modeling_data.yeast_attenuation.apply(lambda x: x.replace(\"%\", \"\"))\n",
    "modeling_data.yeast_attenuation = pd.to_numeric(modeling_data.yeast_attenuation)\n",
    "modeling_data[modeling_data.yeast_flocculation != \"Variable\"]\n",
    "modeling_data.yeast_flocculation = modeling_data.yeast_flocculation.apply(yeast_flocculation)\n",
    "modeling_data.method = modeling_data.method.apply(lambda x: x.replace(\" \", \"_\").lower())\n",
    "modeling_data.yeast_form = modeling_data.yeast_form.apply(lambda x: x.replace(\" \", \"_\").lower())\n",
    "\n",
    "\n",
    "def yeast_flocculation(x):\n",
    "    if (x == \"Medium\" or x == \"Med-Low\" or x == \"Med-High\" or x == \"Med\" or x == \"Medium-low\" or x == \"Med/Low\" or x == \"Medium-Low\" or x == \"Med/High\" or x == \"Medium High\"):\n",
    "        return \"medium\"\n",
    "    elif (x == \"Low\" or x == \"Low-Med\" or x == \"Low/Med\"):\n",
    "        return \"low\"\n",
    "    elif (x == \"High\" or x == \"Very High\"):\n",
    "        return \"high\"\n",
    "    \n",
    "    \n",
    "modeling_data.yeast_flocculation.unique()\n",
    "modeling_features = pd.get_dummies(modeling_data)\n",
    "modeling_features.shape\n",
    "\n",
    "modeling_outcome = data_ratings[outcome]\n",
    "\n",
    "\n",
    "modeling_features.to_csv(\"data/prepped/modeling_features.csv\")\n",
    "modeling_outcome.to_csv(\"data/prepped/modeling_outcome.csv\")\n",
    "\n",
    "\n",
    "\n",
    "# with open(\"data/prepped/modeling_features.csv\", mode='a', encoding='utf-8') as csv_file:\n",
    "#     field_names = ['abv', 'ibu', 'diff_g', 'boil_time', 'efficiency', 'ferm_total_weight', 'ferm_type_base_malt', 'ferm_type_crystal_malt', 'ferm_type_roasted_malt', 'ferm_type_other', 'ferm_type_extract', 'ferm_type_sugar', 'ferm_type_raw', 'ferm_type_acidulated_malt', 'ferm_type_fruit', 'ferm_type_gluten_free_malt', 'hops_type_pellet', 'hops_type_leaf_whole', 'hops_type_plug', 'other_type_spice', 'other_type_water_agt', 'other_type_other', 'other_type_fining', 'other_type_flavor', 'other_type_herb', 'yeast_attenuation', 'method_all_grain', 'method_biab', 'method_extract', 'method_partial_mash', 'yeast_form_dry', 'yeast_form_liquid', 'yeast_flocculation_high', 'yeast_flocculation_low', 'yeast_flocculation_medium']\n",
    "#     writer = csv.DictWriter(csv_file, fieldnames=field_names)\n",
    "#     writer.writeheader()\n",
    "#     for row in modeling_features:\n",
    "#         writer.writerow(row)\n",
    "        \n",
    "# modeling_outcome = data[outcome]\n",
    "\n",
    "# modeling_features\n",
    "\n",
    "# with open(\"data/prepped/modeling_outcome.csv\", mode='a', encoding='utf-8') as csv_file:\n",
    "#     writer = csv.DictWriter(csv_file, fieldnames=outcome)\n",
    "#     writer.writeheader()\n",
    "#     for row in modeling_outcome:\n",
    "#         writer.writerow(row)\n"
   ]
  },
  {
   "cell_type": "code",
   "execution_count": null,
   "metadata": {},
   "outputs": [],
   "source": []
  }
 ],
 "metadata": {
  "kernelspec": {
   "display_name": "Python 3",
   "language": "python",
   "name": "python3"
  },
  "language_info": {
   "codemirror_mode": {
    "name": "ipython",
    "version": 3
   },
   "file_extension": ".py",
   "mimetype": "text/x-python",
   "name": "python",
   "nbconvert_exporter": "python",
   "pygments_lexer": "ipython3",
   "version": "3.6.5"
  }
 },
 "nbformat": 4,
 "nbformat_minor": 2
}
