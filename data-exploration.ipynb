{
 "cells": [
  {
   "cell_type": "code",
   "execution_count": 120,
   "metadata": {},
   "outputs": [],
   "source": [
    "import pandas as pd\n",
    "import seaborn as sns\n",
    "from matplotlib import pyplot"
   ]
  },
  {
   "cell_type": "code",
   "execution_count": 113,
   "metadata": {},
   "outputs": [
    {
     "name": "stderr",
     "output_type": "stream",
     "text": [
      "/anaconda3/lib/python3.6/site-packages/IPython/core/interactiveshell.py:2785: DtypeWarning: Columns (55,56,57,58,59,60) have mixed types. Specify dtype option on import or set low_memory=False.\n",
      "  interactivity=interactivity, compiler=compiler, result=result)\n"
     ]
    }
   ],
   "source": [
    "df = pd.read_csv(\"data/prepped/all_recipes.csv\")"
   ]
  },
  {
   "cell_type": "code",
   "execution_count": 114,
   "metadata": {},
   "outputs": [],
   "source": [
    "df = df.dropna(subset=['rating_value'])"
   ]
  },
  {
   "cell_type": "code",
   "execution_count": 115,
   "metadata": {},
   "outputs": [
    {
     "data": {
      "text/plain": [
       "(1978, 67)"
      ]
     },
     "execution_count": 115,
     "metadata": {},
     "output_type": "execute_result"
    }
   ],
   "source": [
    "df.shape"
   ]
  },
  {
   "cell_type": "code",
   "execution_count": 116,
   "metadata": {},
   "outputs": [
    {
     "data": {
      "text/html": [
       "<div>\n",
       "<style scoped>\n",
       "    .dataframe tbody tr th:only-of-type {\n",
       "        vertical-align: middle;\n",
       "    }\n",
       "\n",
       "    .dataframe tbody tr th {\n",
       "        vertical-align: top;\n",
       "    }\n",
       "\n",
       "    .dataframe thead th {\n",
       "        text-align: right;\n",
       "    }\n",
       "</style>\n",
       "<table border=\"1\" class=\"dataframe\">\n",
       "  <thead>\n",
       "    <tr style=\"text-align: right;\">\n",
       "      <th></th>\n",
       "      <th>Unnamed: 0</th>\n",
       "      <th>ibu</th>\n",
       "      <th>og</th>\n",
       "      <th>fg</th>\n",
       "      <th>brewed_count</th>\n",
       "      <th>boil_time</th>\n",
       "      <th>boil_gravity</th>\n",
       "      <th>efficiency</th>\n",
       "      <th>mash_thickness</th>\n",
       "      <th>pitch_rate</th>\n",
       "      <th>...</th>\n",
       "      <th>other_type_fining</th>\n",
       "      <th>other_type_flavor</th>\n",
       "      <th>other_type_herb</th>\n",
       "      <th>yeast_amount</th>\n",
       "      <th>water_ca+2</th>\n",
       "      <th>water_mg+2</th>\n",
       "      <th>water_na+</th>\n",
       "      <th>water_cl-</th>\n",
       "      <th>water_so4-2</th>\n",
       "      <th>water_hco3-</th>\n",
       "    </tr>\n",
       "  </thead>\n",
       "  <tbody>\n",
       "    <tr>\n",
       "      <th>count</th>\n",
       "      <td>1978.000000</td>\n",
       "      <td>1978.000000</td>\n",
       "      <td>1978.000000</td>\n",
       "      <td>1978.000000</td>\n",
       "      <td>1978.00000</td>\n",
       "      <td>1978.000000</td>\n",
       "      <td>1946.000000</td>\n",
       "      <td>1978.000000</td>\n",
       "      <td>1159.000000</td>\n",
       "      <td>1122.000000</td>\n",
       "      <td>...</td>\n",
       "      <td>1978.000000</td>\n",
       "      <td>1978.000000</td>\n",
       "      <td>1978.000000</td>\n",
       "      <td>1978.000000</td>\n",
       "      <td>1978.000000</td>\n",
       "      <td>1978.000000</td>\n",
       "      <td>1978.000000</td>\n",
       "      <td>1978.000000</td>\n",
       "      <td>1978.000000</td>\n",
       "      <td>1978.000000</td>\n",
       "    </tr>\n",
       "    <tr>\n",
       "      <th>mean</th>\n",
       "      <td>29469.898888</td>\n",
       "      <td>47.412154</td>\n",
       "      <td>1.313058</td>\n",
       "      <td>1.056594</td>\n",
       "      <td>2.10364</td>\n",
       "      <td>65.622851</td>\n",
       "      <td>1.265152</td>\n",
       "      <td>67.388281</td>\n",
       "      <td>2.116312</td>\n",
       "      <td>0.732531</td>\n",
       "      <td>...</td>\n",
       "      <td>0.254803</td>\n",
       "      <td>0.128413</td>\n",
       "      <td>0.013650</td>\n",
       "      <td>1.327098</td>\n",
       "      <td>33.104702</td>\n",
       "      <td>4.613498</td>\n",
       "      <td>11.321132</td>\n",
       "      <td>29.300051</td>\n",
       "      <td>42.315728</td>\n",
       "      <td>43.315217</td>\n",
       "    </tr>\n",
       "    <tr>\n",
       "      <th>std</th>\n",
       "      <td>27412.570243</td>\n",
       "      <td>40.572785</td>\n",
       "      <td>1.800480</td>\n",
       "      <td>0.339105</td>\n",
       "      <td>10.72637</td>\n",
       "      <td>15.407771</td>\n",
       "      <td>1.592605</td>\n",
       "      <td>13.866621</td>\n",
       "      <td>1.440166</td>\n",
       "      <td>0.390878</td>\n",
       "      <td>...</td>\n",
       "      <td>0.435861</td>\n",
       "      <td>0.334633</td>\n",
       "      <td>0.116063</td>\n",
       "      <td>5.774417</td>\n",
       "      <td>46.884126</td>\n",
       "      <td>13.360811</td>\n",
       "      <td>20.450434</td>\n",
       "      <td>43.143947</td>\n",
       "      <td>86.961250</td>\n",
       "      <td>79.167088</td>\n",
       "    </tr>\n",
       "    <tr>\n",
       "      <th>min</th>\n",
       "      <td>0.000000</td>\n",
       "      <td>0.000000</td>\n",
       "      <td>1.007000</td>\n",
       "      <td>0.969000</td>\n",
       "      <td>0.00000</td>\n",
       "      <td>0.000000</td>\n",
       "      <td>1.006000</td>\n",
       "      <td>0.000000</td>\n",
       "      <td>0.600000</td>\n",
       "      <td>0.000000</td>\n",
       "      <td>...</td>\n",
       "      <td>0.000000</td>\n",
       "      <td>0.000000</td>\n",
       "      <td>0.000000</td>\n",
       "      <td>1.000000</td>\n",
       "      <td>0.000000</td>\n",
       "      <td>0.000000</td>\n",
       "      <td>0.000000</td>\n",
       "      <td>0.000000</td>\n",
       "      <td>0.000000</td>\n",
       "      <td>0.000000</td>\n",
       "    </tr>\n",
       "    <tr>\n",
       "      <th>25%</th>\n",
       "      <td>4520.750000</td>\n",
       "      <td>25.232500</td>\n",
       "      <td>1.051000</td>\n",
       "      <td>1.011000</td>\n",
       "      <td>0.00000</td>\n",
       "      <td>60.000000</td>\n",
       "      <td>1.040000</td>\n",
       "      <td>65.000000</td>\n",
       "      <td>1.400000</td>\n",
       "      <td>0.350000</td>\n",
       "      <td>...</td>\n",
       "      <td>0.000000</td>\n",
       "      <td>0.000000</td>\n",
       "      <td>0.000000</td>\n",
       "      <td>1.000000</td>\n",
       "      <td>0.000000</td>\n",
       "      <td>0.000000</td>\n",
       "      <td>0.000000</td>\n",
       "      <td>0.000000</td>\n",
       "      <td>0.000000</td>\n",
       "      <td>0.000000</td>\n",
       "    </tr>\n",
       "    <tr>\n",
       "      <th>50%</th>\n",
       "      <td>19489.500000</td>\n",
       "      <td>37.880000</td>\n",
       "      <td>1.058000</td>\n",
       "      <td>1.013000</td>\n",
       "      <td>1.00000</td>\n",
       "      <td>60.000000</td>\n",
       "      <td>1.047000</td>\n",
       "      <td>70.000000</td>\n",
       "      <td>1.500000</td>\n",
       "      <td>0.750000</td>\n",
       "      <td>...</td>\n",
       "      <td>0.000000</td>\n",
       "      <td>0.000000</td>\n",
       "      <td>0.000000</td>\n",
       "      <td>1.000000</td>\n",
       "      <td>0.000000</td>\n",
       "      <td>0.000000</td>\n",
       "      <td>0.000000</td>\n",
       "      <td>0.000000</td>\n",
       "      <td>0.000000</td>\n",
       "      <td>0.000000</td>\n",
       "    </tr>\n",
       "    <tr>\n",
       "      <th>75%</th>\n",
       "      <td>52652.250000</td>\n",
       "      <td>59.557500</td>\n",
       "      <td>1.068000</td>\n",
       "      <td>1.016000</td>\n",
       "      <td>2.00000</td>\n",
       "      <td>60.000000</td>\n",
       "      <td>1.058000</td>\n",
       "      <td>75.000000</td>\n",
       "      <td>3.000000</td>\n",
       "      <td>1.000000</td>\n",
       "      <td>...</td>\n",
       "      <td>1.000000</td>\n",
       "      <td>0.000000</td>\n",
       "      <td>0.000000</td>\n",
       "      <td>1.000000</td>\n",
       "      <td>75.000000</td>\n",
       "      <td>5.000000</td>\n",
       "      <td>20.000000</td>\n",
       "      <td>60.000000</td>\n",
       "      <td>80.000000</td>\n",
       "      <td>89.250000</td>\n",
       "    </tr>\n",
       "    <tr>\n",
       "      <th>max</th>\n",
       "      <td>99965.000000</td>\n",
       "      <td>767.470000</td>\n",
       "      <td>19.815500</td>\n",
       "      <td>6.644610</td>\n",
       "      <td>373.00000</td>\n",
       "      <td>240.000000</td>\n",
       "      <td>33.900000</td>\n",
       "      <td>100.000000</td>\n",
       "      <td>20.000000</td>\n",
       "      <td>2.000000</td>\n",
       "      <td>...</td>\n",
       "      <td>1.000000</td>\n",
       "      <td>1.000000</td>\n",
       "      <td>1.000000</td>\n",
       "      <td>200.000000</td>\n",
       "      <td>294.000000</td>\n",
       "      <td>120.000000</td>\n",
       "      <td>125.000000</td>\n",
       "      <td>219.000000</td>\n",
       "      <td>800.000000</td>\n",
       "      <td>387.000000</td>\n",
       "    </tr>\n",
       "  </tbody>\n",
       "</table>\n",
       "<p>8 rows × 42 columns</p>\n",
       "</div>"
      ],
      "text/plain": [
       "         Unnamed: 0          ibu           og           fg  brewed_count  \\\n",
       "count   1978.000000  1978.000000  1978.000000  1978.000000    1978.00000   \n",
       "mean   29469.898888    47.412154     1.313058     1.056594       2.10364   \n",
       "std    27412.570243    40.572785     1.800480     0.339105      10.72637   \n",
       "min        0.000000     0.000000     1.007000     0.969000       0.00000   \n",
       "25%     4520.750000    25.232500     1.051000     1.011000       0.00000   \n",
       "50%    19489.500000    37.880000     1.058000     1.013000       1.00000   \n",
       "75%    52652.250000    59.557500     1.068000     1.016000       2.00000   \n",
       "max    99965.000000   767.470000    19.815500     6.644610     373.00000   \n",
       "\n",
       "         boil_time  boil_gravity   efficiency  mash_thickness   pitch_rate  \\\n",
       "count  1978.000000   1946.000000  1978.000000     1159.000000  1122.000000   \n",
       "mean     65.622851      1.265152    67.388281        2.116312     0.732531   \n",
       "std      15.407771      1.592605    13.866621        1.440166     0.390878   \n",
       "min       0.000000      1.006000     0.000000        0.600000     0.000000   \n",
       "25%      60.000000      1.040000    65.000000        1.400000     0.350000   \n",
       "50%      60.000000      1.047000    70.000000        1.500000     0.750000   \n",
       "75%      60.000000      1.058000    75.000000        3.000000     1.000000   \n",
       "max     240.000000     33.900000   100.000000       20.000000     2.000000   \n",
       "\n",
       "          ...       other_type_fining  other_type_flavor  other_type_herb  \\\n",
       "count     ...             1978.000000        1978.000000      1978.000000   \n",
       "mean      ...                0.254803           0.128413         0.013650   \n",
       "std       ...                0.435861           0.334633         0.116063   \n",
       "min       ...                0.000000           0.000000         0.000000   \n",
       "25%       ...                0.000000           0.000000         0.000000   \n",
       "50%       ...                0.000000           0.000000         0.000000   \n",
       "75%       ...                1.000000           0.000000         0.000000   \n",
       "max       ...                1.000000           1.000000         1.000000   \n",
       "\n",
       "       yeast_amount   water_ca+2   water_mg+2    water_na+    water_cl-  \\\n",
       "count   1978.000000  1978.000000  1978.000000  1978.000000  1978.000000   \n",
       "mean       1.327098    33.104702     4.613498    11.321132    29.300051   \n",
       "std        5.774417    46.884126    13.360811    20.450434    43.143947   \n",
       "min        1.000000     0.000000     0.000000     0.000000     0.000000   \n",
       "25%        1.000000     0.000000     0.000000     0.000000     0.000000   \n",
       "50%        1.000000     0.000000     0.000000     0.000000     0.000000   \n",
       "75%        1.000000    75.000000     5.000000    20.000000    60.000000   \n",
       "max      200.000000   294.000000   120.000000   125.000000   219.000000   \n",
       "\n",
       "       water_so4-2  water_hco3-  \n",
       "count  1978.000000  1978.000000  \n",
       "mean     42.315728    43.315217  \n",
       "std      86.961250    79.167088  \n",
       "min       0.000000     0.000000  \n",
       "25%       0.000000     0.000000  \n",
       "50%       0.000000     0.000000  \n",
       "75%      80.000000    89.250000  \n",
       "max     800.000000   387.000000  \n",
       "\n",
       "[8 rows x 42 columns]"
      ]
     },
     "execution_count": 116,
     "metadata": {},
     "output_type": "execute_result"
    }
   ],
   "source": [
    "df.describe()"
   ]
  },
  {
   "cell_type": "code",
   "execution_count": 117,
   "metadata": {},
   "outputs": [
    {
     "data": {
      "text/plain": [
       "<matplotlib.axes._subplots.AxesSubplot at 0x1a258d3ac8>"
      ]
     },
     "execution_count": 117,
     "metadata": {},
     "output_type": "execute_result"
    },
    {
     "data": {
      "image/png": "[encoded data removed]",
      "text/plain": [
       "<Figure size 432x288 with 1 Axes>"
      ]
     },
     "metadata": {},
     "output_type": "display_data"
    }
   ],
   "source": [
    "sns.distplot(df['rating_value'], kde=False)"
   ]
  },
  {
   "cell_type": "code",
   "execution_count": 136,
   "metadata": {},
   "outputs": [
    {
     "data": {
      "text/plain": [
       "<matplotlib.axes._subplots.AxesSubplot at 0x1a20d02438>"
      ]
     },
     "execution_count": 136,
     "metadata": {},
     "output_type": "execute_result"
    },
    {
     "data": {
      "image/png": "[encoded data removed]",
      "text/plain": [
       "<Figure size 576x576 with 1 Axes>"
      ]
     },
     "metadata": {},
     "output_type": "display_data"
    }
   ],
   "source": [
    "a4_dims = (8, 8)\n",
    "fig, ax = pyplot.subplots(figsize=a4_dims)\n",
    "sns.regplot(y=df['ferm_type_fruit'], x=df['rating_value'])"
   ]
  },
  {
   "cell_type": "code",
   "execution_count": 168,
   "metadata": {},
   "outputs": [
    {
     "data": {
      "image/png": "[encoded data removed]",
      "text/plain": [
       "<Figure size 900x180 with 5 Axes>"
      ]
     },
     "metadata": {},
     "output_type": "display_data"
    }
   ],
   "source": [
    "pp = sns.pairplot(data=df,\n",
    "                  y_vars=['rating_value'],\n",
    "                  x_vars=top[1:6])"
   ]
  },
  {
   "cell_type": "code",
   "execution_count": 23,
   "metadata": {},
   "outputs": [
    {
     "data": {
      "text/plain": [
       "['author',\n",
       " 'boil_gravity',\n",
       " 'mash_thickness',\n",
       " 'pitch_rate',\n",
       " 'priming_method',\n",
       " 'priming_amount',\n",
       " 'mash_ph',\n",
       " 'yeast_name',\n",
       " 'yeast_type',\n",
       " 'yeast_form',\n",
       " 'yeast_laboratory',\n",
       " 'yeast_attenuation',\n",
       " 'yeast_flocculation']"
      ]
     },
     "execution_count": 23,
     "metadata": {},
     "output_type": "execute_result"
    }
   ],
   "source": [
    "df.columns[df.isna().any()].tolist()"
   ]
  },
  {
   "cell_type": "code",
   "execution_count": 24,
   "metadata": {},
   "outputs": [
    {
     "data": {
      "text/plain": [
       "Unnamed: 0                       0\n",
       "title                            0\n",
       "title_url                        0\n",
       "author                         189\n",
       "style_title                      0\n",
       "style_url                        0\n",
       "batch_size                       0\n",
       "abv                              0\n",
       "ibu                              0\n",
       "og                               0\n",
       "fg                               0\n",
       "color_title                      0\n",
       "color_hex                        0\n",
       "method                           0\n",
       "brewed_count                     0\n",
       "boil_size                        0\n",
       "boil_time                        0\n",
       "boil_gravity                    32\n",
       "efficiency                       0\n",
       "mash_thickness                 819\n",
       "sugar_scale                      0\n",
       "pitch_rate                     856\n",
       "primary_temp                     0\n",
       "priming_method                1670\n",
       "priming_amount                1760\n",
       "creation_date                    0\n",
       "notes                            0\n",
       "title_url.1                      0\n",
       "mash_ph                       1816\n",
       "rating_value                     0\n",
       "                              ... \n",
       "ferm_type_extract                0\n",
       "ferm_type_sugar                  0\n",
       "ferm_type_raw                    0\n",
       "ferm_type_acidulated_malt        0\n",
       "ferm_type_fruit                  0\n",
       "ferm_type_gluten_free_malt       0\n",
       "hops_type_pellet                 0\n",
       "hops_type_leaf_whole             0\n",
       "hops_type_plug                   0\n",
       "hops_type_pellet.1               0\n",
       "other_type_spice                 0\n",
       "other_type_water_agt             0\n",
       "other_type_other                 0\n",
       "other_type_fining                0\n",
       "other_type_flavor                0\n",
       "other_type_herb                  0\n",
       "yeast_amount                     0\n",
       "yeast_starter                    0\n",
       "yeast_name                      12\n",
       "yeast_type                      12\n",
       "yeast_form                      12\n",
       "yeast_laboratory                12\n",
       "yeast_attenuation               12\n",
       "yeast_flocculation              12\n",
       "water_ca+2                       0\n",
       "water_mg+2                       0\n",
       "water_na+                        0\n",
       "water_cl-                        0\n",
       "water_so4-2                      0\n",
       "water_hco3-                      0\n",
       "Length: 67, dtype: int64"
      ]
     },
     "execution_count": 24,
     "metadata": {},
     "output_type": "execute_result"
    }
   ],
   "source": [
    "df.isna().sum()"
   ]
  },
  {
   "cell_type": "code",
   "execution_count": 27,
   "metadata": {},
   "outputs": [],
   "source": [
    "df = df.drop(columns=['mash_thickness', 'pitch_rate', 'mash_ph', 'priming_amount', 'priming_method'])"
   ]
  },
  {
   "cell_type": "code",
   "execution_count": 28,
   "metadata": {},
   "outputs": [
    {
     "data": {
      "text/plain": [
       "Unnamed: 0                      0\n",
       "title                           0\n",
       "title_url                       0\n",
       "author                        189\n",
       "style_title                     0\n",
       "style_url                       0\n",
       "batch_size                      0\n",
       "abv                             0\n",
       "ibu                             0\n",
       "og                              0\n",
       "fg                              0\n",
       "color_title                     0\n",
       "color_hex                       0\n",
       "method                          0\n",
       "brewed_count                    0\n",
       "boil_size                       0\n",
       "boil_time                       0\n",
       "boil_gravity                   32\n",
       "efficiency                      0\n",
       "sugar_scale                     0\n",
       "primary_temp                    0\n",
       "creation_date                   0\n",
       "notes                           0\n",
       "title_url.1                     0\n",
       "rating_value                    0\n",
       "rating_count                    0\n",
       "view_count                      0\n",
       "ferm_total_weight               0\n",
       "ferm_type_base_malt             0\n",
       "ferm_type_crystal_malt          0\n",
       "                             ... \n",
       "ferm_type_extract               0\n",
       "ferm_type_sugar                 0\n",
       "ferm_type_raw                   0\n",
       "ferm_type_acidulated_malt       0\n",
       "ferm_type_fruit                 0\n",
       "ferm_type_gluten_free_malt      0\n",
       "hops_type_pellet                0\n",
       "hops_type_leaf_whole            0\n",
       "hops_type_plug                  0\n",
       "hops_type_pellet.1              0\n",
       "other_type_spice                0\n",
       "other_type_water_agt            0\n",
       "other_type_other                0\n",
       "other_type_fining               0\n",
       "other_type_flavor               0\n",
       "other_type_herb                 0\n",
       "yeast_amount                    0\n",
       "yeast_starter                   0\n",
       "yeast_name                     12\n",
       "yeast_type                     12\n",
       "yeast_form                     12\n",
       "yeast_laboratory               12\n",
       "yeast_attenuation              12\n",
       "yeast_flocculation             12\n",
       "water_ca+2                      0\n",
       "water_mg+2                      0\n",
       "water_na+                       0\n",
       "water_cl-                       0\n",
       "water_so4-2                     0\n",
       "water_hco3-                     0\n",
       "Length: 62, dtype: int64"
      ]
     },
     "execution_count": 28,
     "metadata": {},
     "output_type": "execute_result"
    }
   ],
   "source": [
    "df.isna().sum()"
   ]
  },
  {
   "cell_type": "code",
   "execution_count": 43,
   "metadata": {},
   "outputs": [
    {
     "data": {
      "text/plain": [
       "610      5.0\n",
       "8120     5.0\n",
       "18350    5.0\n",
       "40882    5.0\n",
       "59019    3.0\n",
       "97222    4.0\n",
       "97407    5.0\n",
       "98243    5.0\n",
       "98543    4.0\n",
       "99196    4.0\n",
       "99255    5.0\n",
       "99965    5.0\n",
       "Name: rating_value, dtype: float64"
      ]
     },
     "execution_count": 43,
     "metadata": {},
     "output_type": "execute_result"
    }
   ],
   "source": [
    "df[df['yeast_name'].isnull()]['rating_value']"
   ]
  },
  {
   "cell_type": "code",
   "execution_count": 50,
   "metadata": {},
   "outputs": [],
   "source": [
    "corr = df.corr().abs()"
   ]
  },
  {
   "cell_type": "code",
   "execution_count": 53,
   "metadata": {},
   "outputs": [],
   "source": [
    "stack = corr.unstack()"
   ]
  },
  {
   "cell_type": "code",
   "execution_count": 61,
   "metadata": {},
   "outputs": [],
   "source": [
    "so = stack.sort_values(kind=\"quicksort\", ascending=False)"
   ]
  },
  {
   "cell_type": "code",
   "execution_count": 143,
   "metadata": {},
   "outputs": [],
   "source": [
    "l = df[df.columns[1:]].corr()['rating_value'][:-1].abs()"
   ]
  },
  {
   "cell_type": "code",
   "execution_count": 158,
   "metadata": {},
   "outputs": [],
   "source": [
    "s = l.sort_values(kind=\"quicksort\", ascending=False)\n",
    "s.drop('rating_value')\n",
    "top = list(s.index)"
   ]
  },
  {
   "cell_type": "code",
   "execution_count": 42,
   "metadata": {},
   "outputs": [
    {
     "data": {
      "text/plain": [
       "<matplotlib.axes._subplots.AxesSubplot at 0x1a1e3fb9b0>"
      ]
     },
     "execution_count": 42,
     "metadata": {},
     "output_type": "execute_result"
    },
    {
     "data": {
      "image/png": "[encoded data removed]",
      "text/plain": [
       "<Figure size 432x288 with 1 Axes>"
      ]
     },
     "metadata": {},
     "output_type": "display_data"
    }
   ],
   "source": [
    "sns.distplot(df['rating_value'], kde=False)"
   ]
  },
  {
   "cell_type": "code",
   "execution_count": 7,
   "metadata": {},
   "outputs": [
    {
     "data": {
      "text/plain": [
       "<matplotlib.axes._subplots.AxesSubplot at 0x10f304ef0>"
      ]
     },
     "execution_count": 7,
     "metadata": {},
     "output_type": "execute_result"
    },
    {
     "data": {
      "image/png": "[encoded data removed]",
      "text/plain": [
       "<Figure size 432x288 with 1 Axes>"
      ]
     },
     "metadata": {},
     "output_type": "display_data"
    }
   ],
   "source": [
    "sns.distplot(df['boil_time'], kde=False)"
   ]
  },
  {
   "cell_type": "code",
   "execution_count": 8,
   "metadata": {},
   "outputs": [
    {
     "data": {
      "text/plain": [
       "<matplotlib.axes._subplots.AxesSubplot at 0x10f2f9b38>"
      ]
     },
     "execution_count": 8,
     "metadata": {},
     "output_type": "execute_result"
    },
    {
     "data": {
      "image/png": "[encoded data removed]",
      "text/plain": [
       "<Figure size 432x288 with 1 Axes>"
      ]
     },
     "metadata": {},
     "output_type": "display_data"
    }
   ],
   "source": [
    "sns.scatterplot(x=df['boil_gravity'], y=df['ibu'])"
   ]
  },
  {
   "cell_type": "code",
   "execution_count": 10,
   "metadata": {},
   "outputs": [
    {
     "data": {
      "text/plain": [
       "<matplotlib.axes._subplots.AxesSubplot at 0x1a17d38ba8>"
      ]
     },
     "execution_count": 10,
     "metadata": {},
     "output_type": "execute_result"
    },
    {
     "data": {
      "image/png": "[encoded data removed]",
      "text/plain": [
       "<Figure size 432x288 with 1 Axes>"
      ]
     },
     "metadata": {},
     "output_type": "display_data"
    }
   ],
   "source": [
    "sns.scatterplot(x=df['efficiency'], y=df['mash_thickness'])"
   ]
  },
  {
   "cell_type": "code",
   "execution_count": null,
   "metadata": {},
   "outputs": [],
   "source": []
  }
 ],
 "metadata": {
  "kernelspec": {
   "display_name": "Python 3",
   "language": "python",
   "name": "python3"
  },
  "language_info": {
   "codemirror_mode": {
    "name": "ipython",
    "version": 3
   },
   "file_extension": ".py",
   "mimetype": "text/x-python",
   "name": "python",
   "nbconvert_exporter": "python",
   "pygments_lexer": "ipython3",
   "version": "3.6.5"
  }
 },
 "nbformat": 4,
 "nbformat_minor": 2
}
